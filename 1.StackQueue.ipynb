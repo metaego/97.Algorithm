{
 "cells": [
  {
   "cell_type": "markdown",
   "metadata": {},
   "source": [
    "# Stack & Queue\n",
    "\n",
    "## 학습 내용\n",
    "- Stack\n",
    "- Queue\n",
    "\n",
    "## 1. overview\n",
    "1. stack \n",
    "1.1. stack 정의\n",
    "1.2. 구현 방법 3가지\n",
    "1.3. stack 활용\n",
    "2. queue\n",
    "2.1. queue 정의\n",
    "2.2. 구현 방법 3가지\n",
    "2.3. queue 활용\n"
   ]
  },
  {
   "cell_type": "markdown",
   "metadata": {},
   "source": [
    "## 2. stack\n",
    "- stack:(사전 정의) 쌓다\n",
    "- 프로그래밍에서 목록 혹은 리스트에서 접근이 한 쪽에서만 가능한 구조\n",
    "- 기본원리: LIFO(Last-in, First-out)\n",
    "- 내장함수: push, peek, pop\n",
    "    - push: 자료 맨 위에 새로 자료 넣는 함수 기능\n",
    "    - peek: 가장 마지막에 들어간 자료가 무엇인지 확인하는 함수 기능\n",
    "    - pop: 가장 마지막에 들어간 데이터 추출하는 함수 기능<p>\n",
    "- stack의 자료 구현 방법<br>\n",
    "    1) 직접 구현<br>\n",
    "    2) 이미 구현된 클래스 import하는 방법<br>\n",
    "    3) list를 stack으로 구현<br>\n",
    "    -> 파이썬은 내장된 list가 스택으로 사용 가능하도록 구현되어 있기 때문에 2번, 3번 pass<br>"
   ]
  },
  {
   "cell_type": "markdown",
   "metadata": {},
   "source": [
    "## 2.1. 구현방법\n",
    "### 1) 직접 구현"
   ]
  },
  {
   "cell_type": "code",
   "execution_count": 44,
   "metadata": {},
   "outputs": [],
   "source": [
    "# python 스택 직접 구현\n",
    "\n",
    "class Stack(list):\n",
    "    # 1. push def.\n",
    "    push = list.append\n",
    "\n",
    "    # 2. peek def.\n",
    "    def peek(self):\n",
    "        return self[-1]\n",
    "        # return self[len(self)-1]\n",
    "\n",
    "    # 3. pop\n",
    "    # pop은 구현하지 않는다. 이미 list의 내장 함수로 구현되어 있기 때문이다."
   ]
  },
  {
   "cell_type": "markdown",
   "metadata": {},
   "source": [
    "<!---->"
   ]
  },
  {
   "cell_type": "markdown",
   "metadata": {},
   "source": [
    "<!---->"
   ]
  },
  {
   "cell_type": "code",
   "execution_count": 45,
   "metadata": {},
   "outputs": [],
   "source": [
    "# python 스택 직접 구현 활용(예제1)\n",
    "\n",
    "s = Stack()"
   ]
  },
  {
   "cell_type": "code",
   "execution_count": 46,
   "metadata": {},
   "outputs": [],
   "source": [
    "# push\n",
    "s.push(1)\n",
    "s.push(5)\n",
    "s.push(10)"
   ]
  },
  {
   "cell_type": "code",
   "execution_count": 47,
   "metadata": {},
   "outputs": [
    {
     "name": "stdout",
     "output_type": "stream",
     "text": [
      "my stack is :  [1, 5, 10]\n"
     ]
    }
   ],
   "source": [
    "# 리스트 확인\n",
    "print(\"my stack is : \", s)"
   ]
  },
  {
   "cell_type": "code",
   "execution_count": 48,
   "metadata": {},
   "outputs": [
    {
     "name": "stdout",
     "output_type": "stream",
     "text": [
      "popped value is :  10\n"
     ]
    }
   ],
   "source": [
    "# pop\n",
    "print(\"popped value is : \", s.pop())"
   ]
  },
  {
   "cell_type": "code",
   "execution_count": 49,
   "metadata": {},
   "outputs": [
    {
     "name": "stdout",
     "output_type": "stream",
     "text": [
      "my stack is :  [1, 5]\n"
     ]
    }
   ],
   "source": [
    "# pop 후 리스트 확인\n",
    "print(\"my stack is : \", s)"
   ]
  },
  {
   "cell_type": "code",
   "execution_count": 50,
   "metadata": {},
   "outputs": [
    {
     "name": "stdout",
     "output_type": "stream",
     "text": [
      "peeked value is :  5\n"
     ]
    }
   ],
   "source": [
    "# peek\n",
    "print(\"peeked value is : \", s.peek())"
   ]
  },
  {
   "cell_type": "code",
   "execution_count": 51,
   "metadata": {},
   "outputs": [
    {
     "name": "stdout",
     "output_type": "stream",
     "text": [
      "my stack is :  [1, 5]\n"
     ]
    }
   ],
   "source": [
    "# peek 후 리스트 확인\n",
    "print(\"my stack is : \", s)"
   ]
  },
  {
   "cell_type": "markdown",
   "metadata": {},
   "source": [
    "<!---->"
   ]
  },
  {
   "cell_type": "markdown",
   "metadata": {},
   "source": [
    "<!---->"
   ]
  },
  {
   "cell_type": "code",
   "execution_count": 52,
   "metadata": {},
   "outputs": [],
   "source": [
    "# python List를 스택으로 활용(예제2)\n",
    "\n",
    "s = []"
   ]
  },
  {
   "cell_type": "code",
   "execution_count": 53,
   "metadata": {},
   "outputs": [],
   "source": [
    "# push\n",
    "s.append(1)\n",
    "s.append(5)\n",
    "s.append(10)"
   ]
  },
  {
   "cell_type": "code",
   "execution_count": 54,
   "metadata": {},
   "outputs": [
    {
     "name": "stdout",
     "output_type": "stream",
     "text": [
      "my stack is :  [1, 5, 10]\n"
     ]
    }
   ],
   "source": [
    "# 리스트 확인\n",
    "print(\"my stack is : \", s)"
   ]
  },
  {
   "cell_type": "code",
   "execution_count": 55,
   "metadata": {},
   "outputs": [
    {
     "name": "stdout",
     "output_type": "stream",
     "text": [
      "poped value is :  10\n"
     ]
    }
   ],
   "source": [
    "# pop\n",
    "print(\"poped value is : \", s.pop())"
   ]
  },
  {
   "cell_type": "code",
   "execution_count": 56,
   "metadata": {},
   "outputs": [
    {
     "name": "stdout",
     "output_type": "stream",
     "text": [
      "my stack is :  [1, 5]\n"
     ]
    }
   ],
   "source": [
    "# pop 후 리스트 확인\n",
    "print(\"my stack is : \",s)"
   ]
  },
  {
   "cell_type": "code",
   "execution_count": 57,
   "metadata": {},
   "outputs": [
    {
     "name": "stdout",
     "output_type": "stream",
     "text": [
      "peeked value is : 5\n"
     ]
    }
   ],
   "source": [
    "# peek\n",
    "print(\"peeked value is :\", s[-1])"
   ]
  },
  {
   "cell_type": "code",
   "execution_count": 58,
   "metadata": {},
   "outputs": [
    {
     "name": "stdout",
     "output_type": "stream",
     "text": [
      "my stack is :  [1, 5]\n"
     ]
    }
   ],
   "source": [
    "# peek 후 리스트 확인\n",
    "print(\"my stack is : \",s)"
   ]
  },
  {
   "cell_type": "markdown",
   "metadata": {},
   "source": [
    "<!---->"
   ]
  },
  {
   "cell_type": "markdown",
   "metadata": {},
   "source": [
    "<!---->"
   ]
  },
  {
   "cell_type": "markdown",
   "metadata": {},
   "source": [
    "## 2.2. stack의 활용\n",
    "- 이전 페이지, 다음 페이지 기능\n",
    "- 깊이 우선 탐색(DFS)"
   ]
  },
  {
   "cell_type": "markdown",
   "metadata": {},
   "source": [
    "<!---->"
   ]
  },
  {
   "cell_type": "markdown",
   "metadata": {},
   "source": [
    "<hr>"
   ]
  },
  {
   "cell_type": "markdown",
   "metadata": {},
   "source": [
    "## 2. Queue\n",
    "- 일이 처리되기를 기다리는 리스트\n",
    "- 프로그래밍에서 목록 혹은 리스트에서 접근이 양쪽에서 가능한 구조\n",
    "- 기본원리: FIFO(First-in, First-out)\n",
    "- 대표 내장 함수: put, peek, get<br>\n",
    "    - put: 자료 추가하는 함수 기능 <br>\n",
    "    - peek: 제일 먼저 들어간 자료 확인하는 함수 기능<br>\n",
    "    - get: 제일 먼저 들어간 자료가 리스트에서 먼저 나가는 함수 기능<br>"
   ]
  },
  {
   "cell_type": "markdown",
   "metadata": {},
   "source": [
    "## 2.1. Queue의 구현 방법\n",
    "### 2.1. 직접 구현"
   ]
  },
  {
   "cell_type": "code",
   "execution_count": 86,
   "metadata": {},
   "outputs": [],
   "source": [
    "# Queue 클래스 정의\n",
    "class Queue(list):\n",
    "    put = list.append\n",
    "\n",
    "    def peek(self):\n",
    "        return self[0]\n",
    "\n",
    "    def get(self):\n",
    "        return self.pop(0)"
   ]
  },
  {
   "cell_type": "code",
   "execution_count": 87,
   "metadata": {},
   "outputs": [],
   "source": [
    "# python List를 큐로 활용(예제1)\n",
    "\n",
    "q = Queue()"
   ]
  },
  {
   "cell_type": "code",
   "execution_count": 88,
   "metadata": {},
   "outputs": [],
   "source": [
    "# put 함수\n",
    "q.put(1)\n",
    "q.put(5)\n",
    "q.put(10)"
   ]
  },
  {
   "cell_type": "code",
   "execution_count": 89,
   "metadata": {},
   "outputs": [
    {
     "name": "stdout",
     "output_type": "stream",
     "text": [
      "my queue is :  [1, 5, 10]\n"
     ]
    }
   ],
   "source": [
    "# 리스트 확인\n",
    "print(\"my queue is : \", q)"
   ]
  },
  {
   "cell_type": "code",
   "execution_count": 90,
   "metadata": {},
   "outputs": [
    {
     "name": "stdout",
     "output_type": "stream",
     "text": [
      "removed value is :  1\n"
     ]
    }
   ],
   "source": [
    "# get \n",
    "print(\"removed value is : \", q.get())"
   ]
  },
  {
   "cell_type": "code",
   "execution_count": 91,
   "metadata": {},
   "outputs": [
    {
     "name": "stdout",
     "output_type": "stream",
     "text": [
      "my queue is :  [5, 10]\n"
     ]
    }
   ],
   "source": [
    "# get 후 리스트 확인\n",
    "print(\"my queue is : \", q)"
   ]
  },
  {
   "cell_type": "code",
   "execution_count": 92,
   "metadata": {},
   "outputs": [
    {
     "name": "stdout",
     "output_type": "stream",
     "text": [
      "peeked value is : 5\n"
     ]
    }
   ],
   "source": [
    "# peek\n",
    "print(\"peeked value is :\", q.peek())"
   ]
  },
  {
   "cell_type": "code",
   "execution_count": 93,
   "metadata": {},
   "outputs": [
    {
     "name": "stdout",
     "output_type": "stream",
     "text": [
      "my queue is : [5, 10]\n"
     ]
    }
   ],
   "source": [
    "# peek 후 리스트 확인\n",
    "print(\"my queue is :\", q)"
   ]
  },
  {
   "cell_type": "markdown",
   "metadata": {},
   "source": [
    "<!---->"
   ]
  },
  {
   "cell_type": "markdown",
   "metadata": {},
   "source": [
    "<!---->"
   ]
  },
  {
   "cell_type": "markdown",
   "metadata": {},
   "source": [
    "### 2) 이미 구현된 클래스 import"
   ]
  },
  {
   "cell_type": "code",
   "execution_count": 128,
   "metadata": {},
   "outputs": [],
   "source": [
    "# 이미 구현된 클래스 import(예제2)\n",
    "from queue import Queue\n",
    "\n",
    "q = Queue()"
   ]
  },
  {
   "cell_type": "code",
   "execution_count": 129,
   "metadata": {},
   "outputs": [],
   "source": [
    "# put\n",
    "q.put(1)\n",
    "q.put(5)\n",
    "q.put(10)"
   ]
  },
  {
   "cell_type": "code",
   "execution_count": 130,
   "metadata": {},
   "outputs": [
    {
     "name": "stdout",
     "output_type": "stream",
     "text": [
      "my queue is : <queue.Queue object at 0x000002B4BFF2CE80>\n"
     ]
    }
   ],
   "source": [
    "# 리스트 조회\n",
    "print(\"my queue is :\", q)"
   ]
  },
  {
   "cell_type": "code",
   "execution_count": 131,
   "metadata": {},
   "outputs": [
    {
     "name": "stdout",
     "output_type": "stream",
     "text": [
      "removed value is : 1\n"
     ]
    }
   ],
   "source": [
    "# get\n",
    "print(\"removed value is :\", q.get())"
   ]
  },
  {
   "cell_type": "code",
   "execution_count": 132,
   "metadata": {},
   "outputs": [
    {
     "name": "stdout",
     "output_type": "stream",
     "text": [
      "my queue is : <queue.Queue object at 0x000002B4BFF2CE80>\n"
     ]
    }
   ],
   "source": [
    "# get 후 리스트 조회\n",
    "print(\"my queue is :\", q)"
   ]
  },
  {
   "cell_type": "code",
   "execution_count": 133,
   "metadata": {},
   "outputs": [
    {
     "ename": "AttributeError",
     "evalue": "'Queue' object has no attribute 'peek'",
     "output_type": "error",
     "traceback": [
      "\u001b[1;31m---------------------------------------------------------------------------\u001b[0m",
      "\u001b[1;31mAttributeError\u001b[0m                            Traceback (most recent call last)",
      "\u001b[1;32m<ipython-input-133-7b487d8c4e40>\u001b[0m in \u001b[0;36m<module>\u001b[1;34m\u001b[0m\n\u001b[0;32m      1\u001b[0m \u001b[1;31m# peek\u001b[0m\u001b[1;33m\u001b[0m\u001b[1;33m\u001b[0m\u001b[1;33m\u001b[0m\u001b[0m\n\u001b[1;32m----> 2\u001b[1;33m \u001b[0mprint\u001b[0m\u001b[1;33m(\u001b[0m\u001b[1;34m\"peeked value is : \"\u001b[0m\u001b[1;33m,\u001b[0m \u001b[0mq\u001b[0m\u001b[1;33m.\u001b[0m\u001b[0mpeek\u001b[0m\u001b[1;33m(\u001b[0m\u001b[1;33m)\u001b[0m\u001b[1;33m)\u001b[0m\u001b[1;33m\u001b[0m\u001b[1;33m\u001b[0m\u001b[0m\n\u001b[0m",
      "\u001b[1;31mAttributeError\u001b[0m: 'Queue' object has no attribute 'peek'"
     ]
    }
   ],
   "source": [
    "# peek\n",
    "print(\"peeked value is : \", q.peek())"
   ]
  },
  {
   "cell_type": "code",
   "execution_count": 134,
   "metadata": {},
   "outputs": [
    {
     "name": "stdout",
     "output_type": "stream",
     "text": [
      "my queue is :  <queue.Queue object at 0x000002B4BFF2CE80>\n"
     ]
    }
   ],
   "source": [
    "# peek 후 리스트 조회\n",
    "print(\"my queue is : \", q)"
   ]
  },
  {
   "cell_type": "markdown",
   "metadata": {},
   "source": [
    "<!---->"
   ]
  },
  {
   "cell_type": "markdown",
   "metadata": {},
   "source": [
    "<!---->"
   ]
  },
  {
   "cell_type": "markdown",
   "metadata": {},
   "source": [
    "### 3) list를 queue로 구현"
   ]
  },
  {
   "cell_type": "code",
   "execution_count": 115,
   "metadata": {},
   "outputs": [],
   "source": [
    "# 리스트를 queue로 구현\n",
    "q = []\n",
    "\n",
    "# push\n",
    "q.append(1)\n",
    "q.append(5)\n",
    "q.append(10)"
   ]
  },
  {
   "cell_type": "code",
   "execution_count": 116,
   "metadata": {},
   "outputs": [
    {
     "name": "stdout",
     "output_type": "stream",
     "text": [
      "my queue is :  [1, 5, 10]\n"
     ]
    }
   ],
   "source": [
    "# 리스트 확인\n",
    "print(\"my queue is : \", q)"
   ]
  },
  {
   "cell_type": "code",
   "execution_count": 117,
   "metadata": {},
   "outputs": [
    {
     "name": "stdout",
     "output_type": "stream",
     "text": [
      "removed value is :  1\n"
     ]
    }
   ],
   "source": [
    "# pop\n",
    "print(\"removed value is : \", q.pop(0))"
   ]
  },
  {
   "cell_type": "code",
   "execution_count": 118,
   "metadata": {},
   "outputs": [
    {
     "name": "stdout",
     "output_type": "stream",
     "text": [
      "my queue is : [5, 10]\n"
     ]
    }
   ],
   "source": [
    "# pop 후 리스트 확인\n",
    "print(\"my queue is :\", q)"
   ]
  },
  {
   "cell_type": "code",
   "execution_count": 119,
   "metadata": {},
   "outputs": [
    {
     "name": "stdout",
     "output_type": "stream",
     "text": [
      "peeked value is :  5\n"
     ]
    }
   ],
   "source": [
    "# peek\n",
    "print(\"peeked value is : \", q[0])"
   ]
  },
  {
   "cell_type": "code",
   "execution_count": 121,
   "metadata": {},
   "outputs": [
    {
     "name": "stdout",
     "output_type": "stream",
     "text": [
      "my queue is :  <queue.Queue object at 0x000002B4BFF27EE0>\n"
     ]
    }
   ],
   "source": [
    "# peek 후 리스트 확인\n",
    "print(\"my queue is : \", a)"
   ]
  },
  {
   "cell_type": "markdown",
   "metadata": {},
   "source": [
    "<!---->"
   ]
  },
  {
   "cell_type": "markdown",
   "metadata": {},
   "source": [
    "## 2.2. queue의 활용\n",
    "- 프린터 인쇄 대기열\n",
    "- 너비 우선 탐색(BFS)"
   ]
  },
  {
   "cell_type": "markdown",
   "metadata": {},
   "source": [
    "<!---->"
   ]
  },
  {
   "cell_type": "markdown",
   "metadata": {},
   "source": [
    "------"
   ]
  }
 ],
 "metadata": {
  "kernelspec": {
   "display_name": "Python 3",
   "language": "python",
   "name": "python3"
  },
  "language_info": {
   "codemirror_mode": {
    "name": "ipython",
    "version": 3
   },
   "file_extension": ".py",
   "mimetype": "text/x-python",
   "name": "python",
   "nbconvert_exporter": "python",
   "pygments_lexer": "ipython3",
   "version": "3.8.5"
  }
 },
 "nbformat": 4,
 "nbformat_minor": 4
}
