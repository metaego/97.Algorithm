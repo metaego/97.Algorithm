{
 "cells": [
  {
   "cell_type": "markdown",
   "id": "88c58767",
   "metadata": {},
   "source": [
    "<div class=\"alert alert-block alert-warning\">\n",
    "<strong><font color=\"black\" size=\"10cm\">완전탐색 & 이진 탐색</font></strong><br>\n",
    "</div>"
   ]
  },
  {
   "cell_type": "markdown",
   "id": "65dc68e5",
   "metadata": {},
   "source": [
    "<div class=\"alert alert-block alert-warning\">\n",
    "<strong><font color=\"black\" size=\"5cm\">1. 탐색(검색)이란?</font></strong><br>\n",
    "</div>"
   ]
  },
  {
   "cell_type": "markdown",
   "id": "2d5744ac",
   "metadata": {},
   "source": [
    "- 많은 데이터 속에서 원하는 데이터를 찾는 것\n",
    "- 웹에서 특정 문자를 가진 웹 문서를 찾거나 신용카드나 버스카드 역시 검색 알고리즘을 사용한다"
   ]
  },
  {
   "cell_type": "markdown",
   "id": "08f9c1de",
   "metadata": {},
   "source": [
    "1.1 탐색의 종류\n",
    "- 완전 탐색\n",
    "- 이분탐색\n",
    "- 깊이우선탐색\n",
    "- 너비우선탐택\n",
    "- 문자열탐색\n",
    "- KMP\n",
    "- BM"
   ]
  },
  {
   "cell_type": "markdown",
   "id": "953eff95",
   "metadata": {},
   "source": [
    "<div class=\"alert alert-block alert-warning\">\n",
    "<strong><font color=\"black\" size=\"5cm\">1.2. 완전 탐색</font></strong><br>\n",
    "</div>"
   ]
  },
  {
   "cell_type": "markdown",
   "id": "5f9caea4",
   "metadata": {},
   "source": [
    "- 부르트 포스(brute Force)라고도 불리며 컴퓨터의 빠른 계산 성능을 활용하여 가능한 모든 경우의 수를 탐색하는 효율성 관점에서 최악의 방법"
   ]
  },
  {
   "cell_type": "markdown",
   "id": "24c967e3",
   "metadata": {},
   "source": [
    "1.2.1. 완전 탐색 구현방법\n",
    "- 반복문\n",
    "- 재귀함수\n",
    "    - 동적 계획법\n",
    "    - 백 트리캥\n",
    "    - 탐욕법"
   ]
  },
  {
   "cell_type": "markdown",
   "id": "11e285e1",
   "metadata": {},
   "source": [
    "1.2.2. 완전탐색 - 반복문\n",
    "- 존재하는 모든 데이터를 왼쪽에서 오른쪽 순서대로 하나하나 확인하는 방법\n"
   ]
  },
  {
   "cell_type": "code",
   "execution_count": 3,
   "id": "25319fcd",
   "metadata": {},
   "outputs": [],
   "source": [
    "# 반복문 구현\n",
    "\n",
    "def solution(trump):\n",
    "    for i in range(len(trump)):\n",
    "        if trump[i] == 8:\n",
    "            return i\n",
    "        return -1"
   ]
  },
  {
   "cell_type": "markdown",
   "id": "8014320b",
   "metadata": {},
   "source": [
    "1.2.3. 완전탐색-재귀함수"
   ]
  },
  {
   "cell_type": "code",
   "execution_count": 5,
   "id": "92777a7e",
   "metadata": {},
   "outputs": [],
   "source": [
    "# 재귀함수 구현\n",
    "# loc : 위치값\n",
    "\n",
    "def solution(trump, loc):\n",
    "    if trump[loc] == 8:\n",
    "        return loc\n",
    "    else:\n",
    "        return solution(trump, loc+1)"
   ]
  },
  {
   "cell_type": "markdown",
   "id": "19fde289",
   "metadata": {},
   "source": [
    "<div class=\"alert alert-block alert-warning\">\n",
    "<strong><font color=\"black\" size=\"5cm\">1.3. 이분탐색</font></strong><br>\n",
    "</div>"
   ]
  },
  {
   "cell_type": "markdown",
   "id": "0088df30",
   "metadata": {},
   "source": [
    "- =이진 검색\n",
    "- 오른차순으로 **정렬된 리스트**에서 특정 값의 위치를 찾는 알고리즘\n",
    "- 중간의 값을 선택하여 찾고자 하는 값과의 크고 작음을 비교하는 방법"
   ]
  },
  {
   "cell_type": "code",
   "execution_count": 7,
   "id": "8a6bd523",
   "metadata": {},
   "outputs": [],
   "source": [
    "# 이분탐색 구현\n",
    "\n",
    "def solution(trump):\n",
    "    # 함수 시작 시 left, right 선언\n",
    "    left = 0\n",
    "    right = len(trump)-1\n",
    "    \n",
    "    while(left <= right):\n",
    "        mid = (left+right)//2\n",
    "        if trump[mid] == 8:\n",
    "            return mid\n",
    "        elif trump[mid] < 8:\n",
    "            left = mid + 1\n",
    "        elif trump[mid] > 8:\n",
    "            right = mid -1\n",
    "    return mid"
   ]
  },
  {
   "cell_type": "code",
   "execution_count": null,
   "id": "4c3ff06e",
   "metadata": {},
   "outputs": [],
   "source": []
  }
 ],
 "metadata": {
  "kernelspec": {
   "display_name": "Python 3",
   "language": "python",
   "name": "python3"
  },
  "language_info": {
   "codemirror_mode": {
    "name": "ipython",
    "version": 3
   },
   "file_extension": ".py",
   "mimetype": "text/x-python",
   "name": "python",
   "nbconvert_exporter": "python",
   "pygments_lexer": "ipython3",
   "version": "3.8.5"
  },
  "toc": {
   "base_numbering": 1,
   "nav_menu": {},
   "number_sections": true,
   "sideBar": true,
   "skip_h1_title": false,
   "title_cell": "Table of Contents",
   "title_sidebar": "Contents",
   "toc_cell": false,
   "toc_position": {},
   "toc_section_display": true,
   "toc_window_display": false
  }
 },
 "nbformat": 4,
 "nbformat_minor": 5
}
